{
 "cells": [
  {
   "cell_type": "code",
   "execution_count": 7,
   "metadata": {},
   "outputs": [
    {
     "name": "stdout",
     "output_type": "stream",
     "text": [
      "Conditional probability is 0.0303030303030303\n"
     ]
    }
   ],
   "source": [
    "#Question-1\n",
    "a=float(11/36) \n",
    "b=float(6/36) \n",
    "c=float(2/36)\n",
    "def probability():\n",
    "    prob1=float(c*b)\n",
    "    prob2=float((prob1)/a)\n",
    "    print(\"Conditional probability is\",prob2)\n",
    "try:\n",
    "    probability()\n",
    "except Exception as e:\n",
    "    print(e)\n",
    "    \n",
    "    \n",
    "    \n",
    "    \n"
   ]
  },
  {
   "cell_type": "code",
   "execution_count": null,
   "metadata": {},
   "outputs": [],
   "source": [
    "#Question-2\n",
    "#probability of getting a black ball given bag1 is selected\n",
    "P(B|B1) = 6/10\n",
    "#probability of selecting bag1\n",
    "P(B1) = 1/2\n",
    "#probability of selecting bag2\n",
    "P(B2) = 1/2\n",
    "#probability of getting black ball given bag2 is selected\n",
    "P(B|B2) = 3/7\n",
    "#probability of bag1 being chosen given black ball is found\n",
    "P(B1|B) = (P(B|B1)*P(B1))/(P(B1)*P(B|B1))+(P(B2)*P(B|B2))\n",
    "P(B1|B) = ((6/10)*(1/2))/((1/2-6/10)+(1/2*3/7))\n",
    "P(B1|B) =  7/12\n"
   ]
  },
  {
   "cell_type": "code",
   "execution_count": null,
   "metadata": {},
   "outputs": [],
   "source": [
    "#Question-3\n",
    "#probability of telling truth\n",
    "P(T) = 2/3 \n",
    "#probability of telling lie\n",
    "P(L) = 1 - 2/3 = 1/3\n",
    "#probabilty of getting four actually\n",
    "P(F|T) = 1/6\n",
    "#probability of not getting four\n",
    "P(F|L) = 1 - 1/6 = 5/6\n",
    "P(T|F) = (P(F|T) * P(T)) / (((P(T) * P(F|T)) + (P(L) * P(F|L))))\n",
    "P(T|F) = ((1/6) * (2/3)) / ((2/3 * 1/6) + (1/3 * 5/6))\n",
    "P(T|F) = 2/7\n",
    "\n"
   ]
  }
 ],
 "metadata": {
  "kernelspec": {
   "display_name": "Python 3",
   "language": "python",
   "name": "python3"
  },
  "language_info": {
   "codemirror_mode": {
    "name": "ipython",
    "version": 3
   },
   "file_extension": ".py",
   "mimetype": "text/x-python",
   "name": "python",
   "nbconvert_exporter": "python",
   "pygments_lexer": "ipython3",
   "version": "3.6.5"
  }
 },
 "nbformat": 4,
 "nbformat_minor": 2
}
