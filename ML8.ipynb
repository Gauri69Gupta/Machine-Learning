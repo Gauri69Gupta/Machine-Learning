{
 "cells": [
  {
   "cell_type": "code",
   "execution_count": 29,
   "metadata": {},
   "outputs": [
    {
     "name": "stdout",
     "output_type": "stream",
     "text": [
      "y_intercept: 7196386.117711076\n",
      "slope: [-1.55811860e-06 -3.02811583e+04  3.93030759e+04  1.07031800e+02\n",
      "  2.21532654e-01  1.02566114e+04  5.95032995e+05  5.38899117e+04\n",
      "  9.68260696e+04  6.29836831e+01  4.40481169e+01 -2.85347163e+03\n",
      "  8.80741562e+00 -5.64740842e+02  6.00003753e+05 -2.01883892e+05\n",
      "  2.70522119e+01 -4.77055634e-01]\n",
      "          actual     predicted\n",
      "17384   297000.0  3.850464e+05\n",
      "722    1578000.0  1.506242e+06\n",
      "2680    562100.0  5.663736e+05\n",
      "18754   631500.0  5.695577e+05\n",
      "14554   780000.0  9.726433e+05\n",
      "16227   485000.0  3.723486e+05\n",
      "6631    340000.0  3.928619e+05\n",
      "19813   335606.0  3.767081e+05\n",
      "3367    425000.0  5.645014e+05\n",
      "21372   490000.0  1.203602e+06\n",
      "3268    732000.0  7.028465e+05\n",
      "20961   389700.0  3.603381e+05\n",
      "21456   450000.0  3.801485e+05\n",
      "3880    357000.0  3.271553e+05\n",
      "17472   960000.0  8.311218e+05\n",
      "7618    257000.0  3.908223e+05\n",
      "1091    448000.0  3.386509e+05\n",
      "1560    610000.0  6.444514e+05\n",
      "8945    230950.0  3.342334e+05\n",
      "8439    377500.0  5.617262e+05\n",
      "13058   375000.0  3.592819e+05\n",
      "12080   410000.0  3.798127e+05\n",
      "7417    459000.0  6.106175e+05\n",
      "3101    190000.0  2.079188e+05\n",
      "18769   585000.0  6.106781e+05\n",
      "7332    280000.0  3.019247e+05\n",
      "19186   500000.0  4.739113e+05\n",
      "11875   465000.0  6.492869e+05\n",
      "14100   802000.0  8.751389e+05\n",
      "10641   440000.0  5.104683e+05\n",
      "...          ...           ...\n",
      "5838    980000.0  8.903857e+05\n",
      "17350   520000.0  5.377382e+05\n",
      "17675   325000.0  5.651587e+05\n",
      "3572    770000.0  4.646301e+05\n",
      "16888   995000.0  1.510317e+06\n",
      "21433   465750.0  7.001196e+05\n",
      "18026   575000.0  5.220057e+05\n",
      "6588    425000.0  4.127300e+05\n",
      "11504   398500.0  5.418017e+05\n",
      "530     270500.0  2.743590e+05\n",
      "4897    310000.0  2.842470e+05\n",
      "9185    190000.0  2.082774e+05\n",
      "13245   492000.0  6.368020e+05\n",
      "4264    235000.0  2.427950e+05\n",
      "7673    765000.0  9.862728e+05\n",
      "13167   530000.0  5.244545e+05\n",
      "21174   525000.0  7.304828e+05\n",
      "16924   226000.0  3.813808e+05\n",
      "19310   624000.0  6.405040e+05\n",
      "1916    500000.0  4.796314e+05\n",
      "15231   467500.0  5.004905e+05\n",
      "8210    203000.0  2.128535e+05\n",
      "12860   446000.0  4.602819e+05\n",
      "12947   206000.0  1.859213e+05\n",
      "21490   529000.0  6.368545e+05\n",
      "18588  1100000.0  4.541118e+05\n",
      "6784    700000.0  5.531994e+05\n",
      "14510   380000.0  3.131156e+05\n",
      "18917   268000.0  2.384924e+05\n",
      "11750   206000.0  1.303921e+05\n",
      "\n",
      "[6484 rows x 2 columns]\n"
     ]
    }
   ],
   "source": [
    "import pandas as pd\n",
    "from sklearn.model_selection import train_test_split\n",
    "from sklearn.linear_model import LinearRegression\n",
    "import numpy as np\n",
    "from sklearn import metrics\n",
    "\n",
    "data=pd.read_csv(\"G:\\house.csv\")\n",
    "x=data[[\"id\",\"bedrooms\",\"bathrooms\",\"sqft_living\",\"sqft_lot\",\"floors\",\"waterfront\",\"view\",\"grade\",\"sqft_above\",\"sqft_basement\",\"yr_built\",\"yr_renovated\",\"zipcode\",\"lat\",\"long\",\"sqft_living15\",\"sqft_lot15\"]]\n",
    "y=data[\"price\"]\n",
    "x_train, x_test, y_train, y_test = train_test_split(x,y,test_size = 0.3,random_state = 0)\n",
    "regressor = LinearRegression()\n",
    "regressor.fit(x_train,y_train)\n",
    "print(\"y_intercept:\",regressor.intercept_)\n",
    "print(\"slope:\",regressor.coef_)\n",
    "y_pred = regressor.predict(x_test)\n",
    "da=pd.DataFrame({'actual':y_test,'predicted':y_pred})\n",
    "print(da)"
   ]
  },
  {
   "cell_type": "code",
   "execution_count": 22,
   "metadata": {},
   "outputs": [
    {
     "name": "stdout",
     "output_type": "stream",
     "text": [
      "MAE 124789.84939917468\n",
      "MSE 43091040868.15906\n",
      "RMSE 207583.81648904874\n"
     ]
    }
   ],
   "source": [
    "import numpy as np\n",
    "from sklearn import metrics\n",
    "print(\"MAE\",metrics.mean_absolute_error(y_test,y_pred))\n",
    "print(\"MSE\",metrics.mean_squared_error(y_test,y_pred))\n",
    "print(\"RMSE\",np.sqrt(metrics.mean_squared_error(y_test,y_pred)))"
   ]
  },
  {
   "cell_type": "code",
   "execution_count": 25,
   "metadata": {},
   "outputs": [
    {
     "data": {
      "text/plain": [
       "array([[0.72010308, 0.09090909, 0.125     , ..., 0.16193426, 0.00574235,\n",
       "        0.01926557],\n",
       "       [0.64785332, 0.09090909, 0.28125   , ..., 0.22216486, 0.00802712,\n",
       "        0.06072131],\n",
       "       [0.56879485, 0.06060606, 0.125     , ..., 0.3994149 , 0.00851302,\n",
       "        0.01377049],\n",
       "       ...,\n",
       "       [0.15378321, 0.06060606, 0.09375   , ..., 0.10686629, 0.00155764,\n",
       "        0.04289849],\n",
       "       [0.0293272 , 0.09090909, 0.3125    , ..., 0.17398038, 0.00073057,\n",
       "        0.04262295],\n",
       "       [0.15378321, 0.06060606, 0.09375   , ..., 0.10686629, 0.00081098,\n",
       "        0.03278689]])"
      ]
     },
     "execution_count": 25,
     "metadata": {},
     "output_type": "execute_result"
    }
   ],
   "source": [
    "#Normalisation\n",
    "import pandas as pd\n",
    "from sklearn.preprocessing import MinMaxScaler\n",
    "data=pd.read_csv(\"G:\\house.csv\")\n",
    "x = data[[\"id\",\"bedrooms\",\"bathrooms\",\"sqft_living\",\"sqft_lot\",\"floors\",\"waterfront\",\"view\",\"condition\",\n",
    "\"grade\",\"sqft_above\",\"sqft_basement\",\"yr_built\",\"yr_renovated\",\"zipcode\",\"lat\",\"long\",\"sqft_living15\",\n",
    "\"sqft_lot15\",\"price\"]]\n",
    "\n",
    "MinMaxScaler().fit_transform(x)"
   ]
  },
  {
   "cell_type": "code",
   "execution_count": 26,
   "metadata": {},
   "outputs": [
    {
     "data": {
      "text/plain": [
       "array([[ 0.88614631, -0.39873715, -1.44746357, ..., -0.9433552 ,\n",
       "        -0.26071541, -0.86671733],\n",
       "       [ 0.63751062, -0.39873715,  0.1756067 , ..., -0.43268619,\n",
       "        -0.18786773, -0.00568792],\n",
       "       [ 0.36544385, -1.47395936, -1.44746357, ...,  1.07013975,\n",
       "        -0.17237524, -0.98084935],\n",
       "       ...,\n",
       "       [-1.06275071, -1.47395936, -1.77207762, ..., -1.41025258,\n",
       "        -0.39414129, -0.37586519],\n",
       "       [-1.49104567, -0.39873715,  0.50022075, ..., -0.8412214 ,\n",
       "        -0.42051149, -0.38158814],\n",
       "       [-1.0627507 , -1.47395936, -1.77207762, ..., -1.41025258,\n",
       "        -0.41794772, -0.58588173]])"
      ]
     },
     "execution_count": 26,
     "metadata": {},
     "output_type": "execute_result"
    }
   ],
   "source": [
    "from sklearn.preprocessing import StandardScaler\n",
    "data=pd.read_csv(\"G:\\house.csv\")\n",
    "x = data[[\"id\",\"bedrooms\",\"bathrooms\",\"sqft_living\",\"sqft_lot\",\"floors\",\"waterfront\",\"view\",\"condition\",\n",
    "\"grade\",\"sqft_above\",\"sqft_basement\",\"yr_built\",\"yr_renovated\",\"zipcode\",\"lat\",\"long\",\"sqft_living15\",\n",
    "\"sqft_lot15\",\"price\"]]\n",
    "StandardScaler().fit_transform(x)"
   ]
  },
  {
   "cell_type": "code",
   "execution_count": null,
   "metadata": {},
   "outputs": [],
   "source": []
  }
 ],
 "metadata": {
  "kernelspec": {
   "display_name": "Python 3",
   "language": "python",
   "name": "python3"
  },
  "language_info": {
   "codemirror_mode": {
    "name": "ipython",
    "version": 3
   },
   "file_extension": ".py",
   "mimetype": "text/x-python",
   "name": "python",
   "nbconvert_exporter": "python",
   "pygments_lexer": "ipython3",
   "version": "3.6.5"
  }
 },
 "nbformat": 4,
 "nbformat_minor": 2
}
